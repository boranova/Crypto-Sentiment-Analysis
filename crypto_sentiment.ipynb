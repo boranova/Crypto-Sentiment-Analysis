{
 "cells": [
  {
   "cell_type": "markdown",
   "metadata": {},
   "source": [
    "# News Headlines Sentiment\n",
    "\n",
    "Use the news api to pull the latest news articles for bitcoin and ethereum and create a DataFrame of sentiment scores for each coin. \n",
    "\n",
    "Use descriptive statistics to answer the following questions:\n",
    "1. Which coin had the highest mean positive score?\n",
    "2. Which coin had the highest negative score?\n",
    "3. Which coin had the highest positive score?"
   ]
  },
  {
   "cell_type": "code",
   "execution_count": 1,
   "metadata": {},
   "outputs": [],
   "source": [
    "# Initial imports\n",
    "import os\n",
    "import pandas as pd\n",
    "from datetime import datetime, timedelta\n",
    "from dotenv import load_dotenv\n",
    "from nltk.sentiment.vader import SentimentIntensityAnalyzer\n",
    "analyzer = SentimentIntensityAnalyzer()\n",
    "from newsapi.newsapi_client import NewsApiClient\n",
    "\n",
    "\n",
    "%matplotlib inline"
   ]
  },
  {
   "cell_type": "code",
   "execution_count": 2,
   "metadata": {},
   "outputs": [],
   "source": [
    "# Read your api key environment variable\n",
    "\n",
    "load_dotenv()\n",
    "\n",
    "# Set News API Key\n",
    "\n",
    "newsapi = NewsApiClient(api_key=os.environ[\"NEWS_API_KEY\"])"
   ]
  },
  {
   "cell_type": "code",
   "execution_count": 3,
   "metadata": {},
   "outputs": [],
   "source": [
    "# Create a function to retrieve articles with a newsapi client\n",
    "\n",
    "current_date = pd.Timestamp(\"2020-07-29\", tz=\"America/New_York\").isoformat()\n",
    "past_date = pd.Timestamp(\"2020-07-27\", tz=\"America/New_York\").isoformat()\n",
    "\n",
    "def get_articles(keyword):    \n",
    "    date = datetime.strptime(current_date[:10], \"%Y-%m-%d\")\n",
    "    end_date = datetime.strptime(past_date[:10], \"%Y-%m-%d\")\n",
    "    print(f\"Fetching news about '{keyword}'\")\n",
    "    print(\"*\" * 30)\n",
    "    while date > end_date:\n",
    "        print(f\"retrieving news from: {date}\")\n",
    "        articles = newsapi.get_everything(\n",
    "            q=keyword,\n",
    "            from_param=date.strftime('%Y-%m-%d'),\n",
    "            to=date.strftime('%Y-%m-%d'),\n",
    "            language=\"en\",\n",
    "            sort_by=\"relevancy\",\n",
    "            page=1,\n",
    "        )\n",
    "        date = date - timedelta(days=1)\n",
    "    return articles"
   ]
  },
  {
   "cell_type": "code",
   "execution_count": 4,
   "metadata": {},
   "outputs": [
    {
     "name": "stdout",
     "output_type": "stream",
     "text": [
      "Fetching news about 'bitcoin'\n",
      "******************************\n",
      "retrieving news from: 2020-07-29 00:00:00\n",
      "retrieving news from: 2020-07-28 00:00:00\n"
     ]
    }
   ],
   "source": [
    "# Fetch the Bitcoin news articles\n",
    "bitcoin_articles = get_articles(\"bitcoin\")\n"
   ]
  },
  {
   "cell_type": "code",
   "execution_count": 5,
   "metadata": {},
   "outputs": [
    {
     "data": {
      "text/plain": [
       "dict_keys(['source', 'author', 'title', 'description', 'url', 'urlToImage', 'publishedAt', 'content'])"
      ]
     },
     "execution_count": 5,
     "metadata": {},
     "output_type": "execute_result"
    }
   ],
   "source": [
    "bitcoin_articles['articles'][1].keys()"
   ]
  },
  {
   "cell_type": "code",
   "execution_count": 40,
   "metadata": {},
   "outputs": [
    {
     "data": {
      "text/html": [
       "<div>\n",
       "<style scoped>\n",
       "    .dataframe tbody tr th:only-of-type {\n",
       "        vertical-align: middle;\n",
       "    }\n",
       "\n",
       "    .dataframe tbody tr th {\n",
       "        vertical-align: top;\n",
       "    }\n",
       "\n",
       "    .dataframe thead th {\n",
       "        text-align: right;\n",
       "    }\n",
       "</style>\n",
       "<table border=\"1\" class=\"dataframe\">\n",
       "  <thead>\n",
       "    <tr style=\"text-align: right;\">\n",
       "      <th></th>\n",
       "      <th>source</th>\n",
       "      <th>author</th>\n",
       "      <th>title</th>\n",
       "      <th>description</th>\n",
       "      <th>url</th>\n",
       "      <th>urlToImage</th>\n",
       "      <th>publishedAt</th>\n",
       "      <th>content</th>\n",
       "    </tr>\n",
       "  </thead>\n",
       "  <tbody>\n",
       "    <tr>\n",
       "      <th>0</th>\n",
       "      <td>{'id': 'techcrunch', 'name': 'TechCrunch'}</td>\n",
       "      <td>Jonathan Shieber</td>\n",
       "      <td>Bitcoin bulls are running, as prices spike abo...</td>\n",
       "      <td>The bitcoin bulls are back in town. The price ...</td>\n",
       "      <td>http://techcrunch.com/2020/07/27/bitcoin-bulls...</td>\n",
       "      <td>https://techcrunch.com/wp-content/uploads/2020...</td>\n",
       "      <td>2020-07-28T01:28:34Z</td>\n",
       "      <td>The bitcoin bulls are back in town.\\r\\nThe pri...</td>\n",
       "    </tr>\n",
       "    <tr>\n",
       "      <th>1</th>\n",
       "      <td>{'id': 'business-insider', 'name': 'Business I...</td>\n",
       "      <td>feedback@businessinsider.com (Emily Graffeo), ...</td>\n",
       "      <td>Gold and bitcoin will both surge higher as lon...</td>\n",
       "      <td>REUTERS/Rick Wilking\\n&lt;ul&gt;\\n&lt;li&gt;Novogratz said...</td>\n",
       "      <td>https://www.businessinsider.com/gold-bitcoin-p...</td>\n",
       "      <td>https://images.markets.businessinsider.com/ima...</td>\n",
       "      <td>2020-07-28T16:42:06Z</td>\n",
       "      <td>REUTERS/Rick Wilking\\r\\n&lt;ul&gt;&lt;li&gt;Novogratz said...</td>\n",
       "    </tr>\n",
       "    <tr>\n",
       "      <th>2</th>\n",
       "      <td>{'id': 'reuters', 'name': 'Reuters'}</td>\n",
       "      <td>Lauren Silva Laughlin</td>\n",
       "      <td>Breakingviews - Drugs are the new bitcoin for ...</td>\n",
       "      <td>(Reuters Breakingviews) - Eastman Kodak knows ...</td>\n",
       "      <td>https://www.reuters.com/article/us-eastman-kod...</td>\n",
       "      <td>https://s4.reutersmedia.net/resources/r/?m=02&amp;...</td>\n",
       "      <td>2020-07-28T21:35:00Z</td>\n",
       "      <td>DALLAS (Reuters Breakingviews) - Eastman Kodak...</td>\n",
       "    </tr>\n",
       "    <tr>\n",
       "      <th>3</th>\n",
       "      <td>{'id': 'business-insider', 'name': 'Business I...</td>\n",
       "      <td>Ben Winck</td>\n",
       "      <td>Bitcoin rockets above $11,000 to year highs as...</td>\n",
       "      <td>&lt;ul&gt;\\n&lt;li&gt;Bitcoin crossed the $11,000 level an...</td>\n",
       "      <td>https://www.businessinsider.com/bitcoin-price-...</td>\n",
       "      <td>https://images.markets.businessinsider.com/ima...</td>\n",
       "      <td>2020-07-28T13:04:13Z</td>\n",
       "      <td>&lt;ul&gt;&lt;li&gt;Bitcoin crossed the $11,000 level and ...</td>\n",
       "    </tr>\n",
       "    <tr>\n",
       "      <th>4</th>\n",
       "      <td>{'id': None, 'name': 'Gizmodo.com'}</td>\n",
       "      <td>Matt Novak</td>\n",
       "      <td>Who Are 'America's Frontline Doctors', the Pro...</td>\n",
       "      <td>A group calling itself “America’s Frontline Do...</td>\n",
       "      <td>https://gizmodo.com/who-are-americas-frontline...</td>\n",
       "      <td>https://i.kinja-img.com/gawker-media/image/upl...</td>\n",
       "      <td>2020-07-28T18:30:00Z</td>\n",
       "      <td>A group calling itself Americas Frontline Doct...</td>\n",
       "    </tr>\n",
       "  </tbody>\n",
       "</table>\n",
       "</div>"
      ],
      "text/plain": [
       "                                              source  \\\n",
       "0         {'id': 'techcrunch', 'name': 'TechCrunch'}   \n",
       "1  {'id': 'business-insider', 'name': 'Business I...   \n",
       "2               {'id': 'reuters', 'name': 'Reuters'}   \n",
       "3  {'id': 'business-insider', 'name': 'Business I...   \n",
       "4                {'id': None, 'name': 'Gizmodo.com'}   \n",
       "\n",
       "                                              author  \\\n",
       "0                                   Jonathan Shieber   \n",
       "1  feedback@businessinsider.com (Emily Graffeo), ...   \n",
       "2                              Lauren Silva Laughlin   \n",
       "3                                          Ben Winck   \n",
       "4                                         Matt Novak   \n",
       "\n",
       "                                               title  \\\n",
       "0  Bitcoin bulls are running, as prices spike abo...   \n",
       "1  Gold and bitcoin will both surge higher as lon...   \n",
       "2  Breakingviews - Drugs are the new bitcoin for ...   \n",
       "3  Bitcoin rockets above $11,000 to year highs as...   \n",
       "4  Who Are 'America's Frontline Doctors', the Pro...   \n",
       "\n",
       "                                         description  \\\n",
       "0  The bitcoin bulls are back in town. The price ...   \n",
       "1  REUTERS/Rick Wilking\\n<ul>\\n<li>Novogratz said...   \n",
       "2  (Reuters Breakingviews) - Eastman Kodak knows ...   \n",
       "3  <ul>\\n<li>Bitcoin crossed the $11,000 level an...   \n",
       "4  A group calling itself “America’s Frontline Do...   \n",
       "\n",
       "                                                 url  \\\n",
       "0  http://techcrunch.com/2020/07/27/bitcoin-bulls...   \n",
       "1  https://www.businessinsider.com/gold-bitcoin-p...   \n",
       "2  https://www.reuters.com/article/us-eastman-kod...   \n",
       "3  https://www.businessinsider.com/bitcoin-price-...   \n",
       "4  https://gizmodo.com/who-are-americas-frontline...   \n",
       "\n",
       "                                          urlToImage           publishedAt  \\\n",
       "0  https://techcrunch.com/wp-content/uploads/2020...  2020-07-28T01:28:34Z   \n",
       "1  https://images.markets.businessinsider.com/ima...  2020-07-28T16:42:06Z   \n",
       "2  https://s4.reutersmedia.net/resources/r/?m=02&...  2020-07-28T21:35:00Z   \n",
       "3  https://images.markets.businessinsider.com/ima...  2020-07-28T13:04:13Z   \n",
       "4  https://i.kinja-img.com/gawker-media/image/upl...  2020-07-28T18:30:00Z   \n",
       "\n",
       "                                             content  \n",
       "0  The bitcoin bulls are back in town.\\r\\nThe pri...  \n",
       "1  REUTERS/Rick Wilking\\r\\n<ul><li>Novogratz said...  \n",
       "2  DALLAS (Reuters Breakingviews) - Eastman Kodak...  \n",
       "3  <ul><li>Bitcoin crossed the $11,000 level and ...  \n",
       "4  A group calling itself Americas Frontline Doct...  "
      ]
     },
     "execution_count": 40,
     "metadata": {},
     "output_type": "execute_result"
    }
   ],
   "source": [
    "bitcoin_df = pd.DataFrame.from_dict(bitcoin_articles['articles']) \n",
    "bitcoin_df.head()"
   ]
  },
  {
   "cell_type": "code",
   "execution_count": 7,
   "metadata": {},
   "outputs": [
    {
     "name": "stdout",
     "output_type": "stream",
     "text": [
      "Fetching news about 'ethereum'\n",
      "******************************\n",
      "retrieving news from: 2020-07-29 00:00:00\n",
      "retrieving news from: 2020-07-28 00:00:00\n"
     ]
    }
   ],
   "source": [
    "# Fetch the Ethereum news articles\n",
    "ethereum_articles = get_articles(\"ethereum\")\n"
   ]
  },
  {
   "cell_type": "code",
   "execution_count": 39,
   "metadata": {},
   "outputs": [
    {
     "data": {
      "text/html": [
       "<div>\n",
       "<style scoped>\n",
       "    .dataframe tbody tr th:only-of-type {\n",
       "        vertical-align: middle;\n",
       "    }\n",
       "\n",
       "    .dataframe tbody tr th {\n",
       "        vertical-align: top;\n",
       "    }\n",
       "\n",
       "    .dataframe thead th {\n",
       "        text-align: right;\n",
       "    }\n",
       "</style>\n",
       "<table border=\"1\" class=\"dataframe\">\n",
       "  <thead>\n",
       "    <tr style=\"text-align: right;\">\n",
       "      <th></th>\n",
       "      <th>source</th>\n",
       "      <th>author</th>\n",
       "      <th>title</th>\n",
       "      <th>description</th>\n",
       "      <th>url</th>\n",
       "      <th>urlToImage</th>\n",
       "      <th>publishedAt</th>\n",
       "      <th>content</th>\n",
       "    </tr>\n",
       "  </thead>\n",
       "  <tbody>\n",
       "    <tr>\n",
       "      <th>0</th>\n",
       "      <td>{'id': 'business-insider', 'name': 'Business I...</td>\n",
       "      <td>Ben Winck</td>\n",
       "      <td>Bitcoin rockets above $11,000 to year highs as...</td>\n",
       "      <td>&lt;ul&gt;\\n&lt;li&gt;Bitcoin crossed the $11,000 level an...</td>\n",
       "      <td>https://www.businessinsider.com/bitcoin-price-...</td>\n",
       "      <td>https://images.markets.businessinsider.com/ima...</td>\n",
       "      <td>2020-07-28T13:04:13Z</td>\n",
       "      <td>&lt;ul&gt;&lt;li&gt;Bitcoin crossed the $11,000 level and ...</td>\n",
       "    </tr>\n",
       "    <tr>\n",
       "      <th>1</th>\n",
       "      <td>{'id': None, 'name': 'CoinDesk'}</td>\n",
       "      <td>Zack Seward</td>\n",
       "      <td>CoinDesk Live Recap: Ethereum Culture, Explained</td>\n",
       "      <td>Maker Foundation board member Tonya Evans and ...</td>\n",
       "      <td>https://www.coindesk.com/coindesk-live-recap-e...</td>\n",
       "      <td>https://static.coindesk.com/wp-content/uploads...</td>\n",
       "      <td>2020-07-28T01:45:12Z</td>\n",
       "      <td>What makes Ethereum culture click?\\r\\nMaker Fo...</td>\n",
       "    </tr>\n",
       "    <tr>\n",
       "      <th>2</th>\n",
       "      <td>{'id': None, 'name': 'CoinDesk'}</td>\n",
       "      <td>Sebastian Sinclair</td>\n",
       "      <td>Staking on Ethereum 2.0 Takes First Step With ...</td>\n",
       "      <td>The transition to Ethereum 2.0 and its proof-o...</td>\n",
       "      <td>https://www.coindesk.com/staking-on-ethereum-2...</td>\n",
       "      <td>https://static.coindesk.com/wp-content/uploads...</td>\n",
       "      <td>2020-07-28T08:35:31Z</td>\n",
       "      <td>DisclosureThe leader in blockchain news, CoinD...</td>\n",
       "    </tr>\n",
       "    <tr>\n",
       "      <th>3</th>\n",
       "      <td>{'id': None, 'name': 'CoinDesk'}</td>\n",
       "      <td>Paddy Baker</td>\n",
       "      <td>Soaring DeFi Usage Drives Ethereum Contract Ca...</td>\n",
       "      <td>Coin Metrics reported that the daily number of...</td>\n",
       "      <td>https://www.coindesk.com/soaring-defi-usage-dr...</td>\n",
       "      <td>https://static.coindesk.com/wp-content/uploads...</td>\n",
       "      <td>2020-07-28T17:48:36Z</td>\n",
       "      <td>DisclosureThe leader in blockchain news, CoinD...</td>\n",
       "    </tr>\n",
       "    <tr>\n",
       "      <th>4</th>\n",
       "      <td>{'id': None, 'name': 'CoinDesk'}</td>\n",
       "      <td>Ian Allison</td>\n",
       "      <td>Memories of London’s Devcon 1, Ethereum’s ‘Woo...</td>\n",
       "      <td>Ethereum’s Devcon 1, held in London in Novembe...</td>\n",
       "      <td>https://www.coindesk.com/devcon-1-ethereum-woo...</td>\n",
       "      <td>https://static.coindesk.com/wp-content/uploads...</td>\n",
       "      <td>2020-07-28T10:00:13Z</td>\n",
       "      <td>Ethereums Devcon 1, held in London in November...</td>\n",
       "    </tr>\n",
       "  </tbody>\n",
       "</table>\n",
       "</div>"
      ],
      "text/plain": [
       "                                              source              author  \\\n",
       "0  {'id': 'business-insider', 'name': 'Business I...           Ben Winck   \n",
       "1                   {'id': None, 'name': 'CoinDesk'}         Zack Seward   \n",
       "2                   {'id': None, 'name': 'CoinDesk'}  Sebastian Sinclair   \n",
       "3                   {'id': None, 'name': 'CoinDesk'}         Paddy Baker   \n",
       "4                   {'id': None, 'name': 'CoinDesk'}         Ian Allison   \n",
       "\n",
       "                                               title  \\\n",
       "0  Bitcoin rockets above $11,000 to year highs as...   \n",
       "1   CoinDesk Live Recap: Ethereum Culture, Explained   \n",
       "2  Staking on Ethereum 2.0 Takes First Step With ...   \n",
       "3  Soaring DeFi Usage Drives Ethereum Contract Ca...   \n",
       "4  Memories of London’s Devcon 1, Ethereum’s ‘Woo...   \n",
       "\n",
       "                                         description  \\\n",
       "0  <ul>\\n<li>Bitcoin crossed the $11,000 level an...   \n",
       "1  Maker Foundation board member Tonya Evans and ...   \n",
       "2  The transition to Ethereum 2.0 and its proof-o...   \n",
       "3  Coin Metrics reported that the daily number of...   \n",
       "4  Ethereum’s Devcon 1, held in London in Novembe...   \n",
       "\n",
       "                                                 url  \\\n",
       "0  https://www.businessinsider.com/bitcoin-price-...   \n",
       "1  https://www.coindesk.com/coindesk-live-recap-e...   \n",
       "2  https://www.coindesk.com/staking-on-ethereum-2...   \n",
       "3  https://www.coindesk.com/soaring-defi-usage-dr...   \n",
       "4  https://www.coindesk.com/devcon-1-ethereum-woo...   \n",
       "\n",
       "                                          urlToImage           publishedAt  \\\n",
       "0  https://images.markets.businessinsider.com/ima...  2020-07-28T13:04:13Z   \n",
       "1  https://static.coindesk.com/wp-content/uploads...  2020-07-28T01:45:12Z   \n",
       "2  https://static.coindesk.com/wp-content/uploads...  2020-07-28T08:35:31Z   \n",
       "3  https://static.coindesk.com/wp-content/uploads...  2020-07-28T17:48:36Z   \n",
       "4  https://static.coindesk.com/wp-content/uploads...  2020-07-28T10:00:13Z   \n",
       "\n",
       "                                             content  \n",
       "0  <ul><li>Bitcoin crossed the $11,000 level and ...  \n",
       "1  What makes Ethereum culture click?\\r\\nMaker Fo...  \n",
       "2  DisclosureThe leader in blockchain news, CoinD...  \n",
       "3  DisclosureThe leader in blockchain news, CoinD...  \n",
       "4  Ethereums Devcon 1, held in London in November...  "
      ]
     },
     "execution_count": 39,
     "metadata": {},
     "output_type": "execute_result"
    }
   ],
   "source": [
    "ethereum_df = pd.DataFrame.from_dict(ethereum_articles['articles']) \n",
    "\n",
    "ethereum_df.head()"
   ]
  },
  {
   "cell_type": "code",
   "execution_count": 46,
   "metadata": {},
   "outputs": [
    {
     "data": {
      "text/html": [
       "<div>\n",
       "<style scoped>\n",
       "    .dataframe tbody tr th:only-of-type {\n",
       "        vertical-align: middle;\n",
       "    }\n",
       "\n",
       "    .dataframe tbody tr th {\n",
       "        vertical-align: top;\n",
       "    }\n",
       "\n",
       "    .dataframe thead th {\n",
       "        text-align: right;\n",
       "    }\n",
       "</style>\n",
       "<table border=\"1\" class=\"dataframe\">\n",
       "  <thead>\n",
       "    <tr style=\"text-align: right;\">\n",
       "      <th></th>\n",
       "      <th>source</th>\n",
       "      <th>author</th>\n",
       "      <th>title</th>\n",
       "      <th>description</th>\n",
       "      <th>url</th>\n",
       "      <th>urlToImage</th>\n",
       "      <th>publishedAt</th>\n",
       "      <th>content</th>\n",
       "      <th>compound</th>\n",
       "      <th>positive</th>\n",
       "      <th>negative</th>\n",
       "      <th>neutral</th>\n",
       "    </tr>\n",
       "  </thead>\n",
       "  <tbody>\n",
       "    <tr>\n",
       "      <th>0</th>\n",
       "      <td>{'id': 'techcrunch', 'name': 'TechCrunch'}</td>\n",
       "      <td>Jonathan Shieber</td>\n",
       "      <td>Bitcoin bulls are running, as prices spike abo...</td>\n",
       "      <td>The bitcoin bulls are back in town. The price ...</td>\n",
       "      <td>http://techcrunch.com/2020/07/27/bitcoin-bulls...</td>\n",
       "      <td>https://techcrunch.com/wp-content/uploads/2020...</td>\n",
       "      <td>2020-07-28T01:28:34Z</td>\n",
       "      <td>The bitcoin bulls are back in town.\\r\\nThe pri...</td>\n",
       "      <td>0.6369</td>\n",
       "      <td>0.140</td>\n",
       "      <td>0.000</td>\n",
       "      <td>0.860</td>\n",
       "    </tr>\n",
       "    <tr>\n",
       "      <th>1</th>\n",
       "      <td>{'id': 'business-insider', 'name': 'Business I...</td>\n",
       "      <td>feedback@businessinsider.com (Emily Graffeo), ...</td>\n",
       "      <td>Gold and bitcoin will both surge higher as lon...</td>\n",
       "      <td>REUTERS/Rick Wilking\\n&lt;ul&gt;\\n&lt;li&gt;Novogratz said...</td>\n",
       "      <td>https://www.businessinsider.com/gold-bitcoin-p...</td>\n",
       "      <td>https://images.markets.businessinsider.com/ima...</td>\n",
       "      <td>2020-07-28T16:42:06Z</td>\n",
       "      <td>REUTERS/Rick Wilking\\r\\n&lt;ul&gt;&lt;li&gt;Novogratz said...</td>\n",
       "      <td>0.0000</td>\n",
       "      <td>0.000</td>\n",
       "      <td>0.000</td>\n",
       "      <td>1.000</td>\n",
       "    </tr>\n",
       "    <tr>\n",
       "      <th>2</th>\n",
       "      <td>{'id': 'reuters', 'name': 'Reuters'}</td>\n",
       "      <td>Lauren Silva Laughlin</td>\n",
       "      <td>Breakingviews - Drugs are the new bitcoin for ...</td>\n",
       "      <td>(Reuters Breakingviews) - Eastman Kodak knows ...</td>\n",
       "      <td>https://www.reuters.com/article/us-eastman-kod...</td>\n",
       "      <td>https://s4.reutersmedia.net/resources/r/?m=02&amp;...</td>\n",
       "      <td>2020-07-28T21:35:00Z</td>\n",
       "      <td>DALLAS (Reuters Breakingviews) - Eastman Kodak...</td>\n",
       "      <td>0.4939</td>\n",
       "      <td>0.091</td>\n",
       "      <td>0.000</td>\n",
       "      <td>0.909</td>\n",
       "    </tr>\n",
       "    <tr>\n",
       "      <th>3</th>\n",
       "      <td>{'id': 'business-insider', 'name': 'Business I...</td>\n",
       "      <td>Ben Winck</td>\n",
       "      <td>Bitcoin rockets above $11,000 to year highs as...</td>\n",
       "      <td>&lt;ul&gt;\\n&lt;li&gt;Bitcoin crossed the $11,000 level an...</td>\n",
       "      <td>https://www.businessinsider.com/bitcoin-price-...</td>\n",
       "      <td>https://images.markets.businessinsider.com/ima...</td>\n",
       "      <td>2020-07-28T13:04:13Z</td>\n",
       "      <td>&lt;ul&gt;&lt;li&gt;Bitcoin crossed the $11,000 level and ...</td>\n",
       "      <td>-0.4215</td>\n",
       "      <td>0.000</td>\n",
       "      <td>0.083</td>\n",
       "      <td>0.917</td>\n",
       "    </tr>\n",
       "    <tr>\n",
       "      <th>4</th>\n",
       "      <td>{'id': None, 'name': 'Gizmodo.com'}</td>\n",
       "      <td>Matt Novak</td>\n",
       "      <td>Who Are 'America's Frontline Doctors', the Pro...</td>\n",
       "      <td>A group calling itself “America’s Frontline Do...</td>\n",
       "      <td>https://gizmodo.com/who-are-americas-frontline...</td>\n",
       "      <td>https://i.kinja-img.com/gawker-media/image/upl...</td>\n",
       "      <td>2020-07-28T18:30:00Z</td>\n",
       "      <td>A group calling itself Americas Frontline Doct...</td>\n",
       "      <td>0.0000</td>\n",
       "      <td>0.000</td>\n",
       "      <td>0.000</td>\n",
       "      <td>1.000</td>\n",
       "    </tr>\n",
       "  </tbody>\n",
       "</table>\n",
       "</div>"
      ],
      "text/plain": [
       "                                              source  \\\n",
       "0         {'id': 'techcrunch', 'name': 'TechCrunch'}   \n",
       "1  {'id': 'business-insider', 'name': 'Business I...   \n",
       "2               {'id': 'reuters', 'name': 'Reuters'}   \n",
       "3  {'id': 'business-insider', 'name': 'Business I...   \n",
       "4                {'id': None, 'name': 'Gizmodo.com'}   \n",
       "\n",
       "                                              author  \\\n",
       "0                                   Jonathan Shieber   \n",
       "1  feedback@businessinsider.com (Emily Graffeo), ...   \n",
       "2                              Lauren Silva Laughlin   \n",
       "3                                          Ben Winck   \n",
       "4                                         Matt Novak   \n",
       "\n",
       "                                               title  \\\n",
       "0  Bitcoin bulls are running, as prices spike abo...   \n",
       "1  Gold and bitcoin will both surge higher as lon...   \n",
       "2  Breakingviews - Drugs are the new bitcoin for ...   \n",
       "3  Bitcoin rockets above $11,000 to year highs as...   \n",
       "4  Who Are 'America's Frontline Doctors', the Pro...   \n",
       "\n",
       "                                         description  \\\n",
       "0  The bitcoin bulls are back in town. The price ...   \n",
       "1  REUTERS/Rick Wilking\\n<ul>\\n<li>Novogratz said...   \n",
       "2  (Reuters Breakingviews) - Eastman Kodak knows ...   \n",
       "3  <ul>\\n<li>Bitcoin crossed the $11,000 level an...   \n",
       "4  A group calling itself “America’s Frontline Do...   \n",
       "\n",
       "                                                 url  \\\n",
       "0  http://techcrunch.com/2020/07/27/bitcoin-bulls...   \n",
       "1  https://www.businessinsider.com/gold-bitcoin-p...   \n",
       "2  https://www.reuters.com/article/us-eastman-kod...   \n",
       "3  https://www.businessinsider.com/bitcoin-price-...   \n",
       "4  https://gizmodo.com/who-are-americas-frontline...   \n",
       "\n",
       "                                          urlToImage           publishedAt  \\\n",
       "0  https://techcrunch.com/wp-content/uploads/2020...  2020-07-28T01:28:34Z   \n",
       "1  https://images.markets.businessinsider.com/ima...  2020-07-28T16:42:06Z   \n",
       "2  https://s4.reutersmedia.net/resources/r/?m=02&...  2020-07-28T21:35:00Z   \n",
       "3  https://images.markets.businessinsider.com/ima...  2020-07-28T13:04:13Z   \n",
       "4  https://i.kinja-img.com/gawker-media/image/upl...  2020-07-28T18:30:00Z   \n",
       "\n",
       "                                             content  compound  positive  \\\n",
       "0  The bitcoin bulls are back in town.\\r\\nThe pri...    0.6369     0.140   \n",
       "1  REUTERS/Rick Wilking\\r\\n<ul><li>Novogratz said...    0.0000     0.000   \n",
       "2  DALLAS (Reuters Breakingviews) - Eastman Kodak...    0.4939     0.091   \n",
       "3  <ul><li>Bitcoin crossed the $11,000 level and ...   -0.4215     0.000   \n",
       "4  A group calling itself Americas Frontline Doct...    0.0000     0.000   \n",
       "\n",
       "   negative  neutral  \n",
       "0     0.000    0.860  \n",
       "1     0.000    1.000  \n",
       "2     0.000    0.909  \n",
       "3     0.083    0.917  \n",
       "4     0.000    1.000  "
      ]
     },
     "execution_count": 46,
     "metadata": {},
     "output_type": "execute_result"
    }
   ],
   "source": [
    "# Create the Bitcoin sentiment scores DataFrame\n",
    "\n",
    "bitcoin_sentiments=[]\n",
    "\n",
    "for article in bitcoin_articles[\"articles\"]:\n",
    "    try:\n",
    "        text = article[\"content\"]\n",
    "        sentiment = analyzer.polarity_scores(text)\n",
    "        compound = sentiment[\"compound\"]\n",
    "        pos = sentiment[\"pos\"]\n",
    "        neu = sentiment[\"neu\"]\n",
    "        neg = sentiment[\"neg\"]\n",
    "        \n",
    "        bitcoin_sentiments.append({\n",
    "            \"compound\": compound,\n",
    "            \"positive\": pos,\n",
    "            \"negative\": neg,\n",
    "            \"neutral\": neu\n",
    "            \n",
    "        })\n",
    "        \n",
    "    except AttributeError:\n",
    "        pass\n",
    "\n",
    "# Create DataFrame\n",
    "bitcoin_sentiment_df = pd.DataFrame(bitcoin_sentiments)\n",
    "\n",
    "# Reorder DataFrame columns\n",
    "cols = [ \"compound\", \"positive\", \"negative\", \"neutral\"]\n",
    "bitcoin_sentiment_df = bitcoin_sentiment_df[cols]\n",
    "\n",
    "bitcoin_df = pd.merge(bitcoin_df , bitcoin_sentiment_df, left_index = True, right_index =True)\n",
    "bitcoin_df.head()"
   ]
  },
  {
   "cell_type": "code",
   "execution_count": 10,
   "metadata": {},
   "outputs": [],
   "source": [
    "# Create the ethereum sentiment scores DataFrame\n",
    "ethereum_sentiments=[]\n",
    "\n",
    "for article in ethereum_articles[\"articles\"]:\n",
    "    try:\n",
    "        text = article[\"content\"]\n",
    "        sentiment = analyzer.polarity_scores(text)\n",
    "        compound = sentiment[\"compound\"]\n",
    "        pos = sentiment[\"pos\"]\n",
    "        neu = sentiment[\"neu\"]\n",
    "        neg = sentiment[\"neg\"]\n",
    "        \n",
    "        ethereum_sentiments.append({\n",
    "            \"compound\": compound,\n",
    "            \"positive\": pos,\n",
    "            \"negative\": neg,\n",
    "            \"neutral\": neu\n",
    "            \n",
    "        })\n",
    "        \n",
    "    except AttributeError:\n",
    "        pass\n",
    "\n",
    "# Create DataFrame\n",
    "ethereum_sentiment_df = pd.DataFrame(ethereum_sentiments)\n",
    "\n",
    "# Reorder DataFrame columns\n",
    "cols = [ \"compound\", \"positive\", \"negative\", \"neutral\"]\n",
    "ethereum_sentiment_df = ethereum_sentiment_df[cols]\n",
    "\n",
    "ethereum_df = pd.merge(ethereum_df , ethereum_sentiment_df, left_index = True, right_index =True)\n",
    "ethereum_df.head()"
   ]
  },
  {
   "cell_type": "code",
   "execution_count": 47,
   "metadata": {},
   "outputs": [
    {
     "data": {
      "text/html": [
       "<div>\n",
       "<style scoped>\n",
       "    .dataframe tbody tr th:only-of-type {\n",
       "        vertical-align: middle;\n",
       "    }\n",
       "\n",
       "    .dataframe tbody tr th {\n",
       "        vertical-align: top;\n",
       "    }\n",
       "\n",
       "    .dataframe thead th {\n",
       "        text-align: right;\n",
       "    }\n",
       "</style>\n",
       "<table border=\"1\" class=\"dataframe\">\n",
       "  <thead>\n",
       "    <tr style=\"text-align: right;\">\n",
       "      <th></th>\n",
       "      <th>compound</th>\n",
       "      <th>positive</th>\n",
       "      <th>negative</th>\n",
       "      <th>neutral</th>\n",
       "    </tr>\n",
       "  </thead>\n",
       "  <tbody>\n",
       "    <tr>\n",
       "      <th>count</th>\n",
       "      <td>17.000000</td>\n",
       "      <td>17.000000</td>\n",
       "      <td>17.000000</td>\n",
       "      <td>17.000000</td>\n",
       "    </tr>\n",
       "    <tr>\n",
       "      <th>mean</th>\n",
       "      <td>0.191829</td>\n",
       "      <td>0.054765</td>\n",
       "      <td>0.014765</td>\n",
       "      <td>0.930471</td>\n",
       "    </tr>\n",
       "    <tr>\n",
       "      <th>std</th>\n",
       "      <td>0.330886</td>\n",
       "      <td>0.067090</td>\n",
       "      <td>0.028095</td>\n",
       "      <td>0.067798</td>\n",
       "    </tr>\n",
       "    <tr>\n",
       "      <th>min</th>\n",
       "      <td>-0.421500</td>\n",
       "      <td>0.000000</td>\n",
       "      <td>0.000000</td>\n",
       "      <td>0.758000</td>\n",
       "    </tr>\n",
       "    <tr>\n",
       "      <th>25%</th>\n",
       "      <td>0.000000</td>\n",
       "      <td>0.000000</td>\n",
       "      <td>0.000000</td>\n",
       "      <td>0.900000</td>\n",
       "    </tr>\n",
       "    <tr>\n",
       "      <th>50%</th>\n",
       "      <td>0.128000</td>\n",
       "      <td>0.052000</td>\n",
       "      <td>0.000000</td>\n",
       "      <td>0.935000</td>\n",
       "    </tr>\n",
       "    <tr>\n",
       "      <th>75%</th>\n",
       "      <td>0.476700</td>\n",
       "      <td>0.088000</td>\n",
       "      <td>0.000000</td>\n",
       "      <td>1.000000</td>\n",
       "    </tr>\n",
       "    <tr>\n",
       "      <th>max</th>\n",
       "      <td>0.836000</td>\n",
       "      <td>0.242000</td>\n",
       "      <td>0.083000</td>\n",
       "      <td>1.000000</td>\n",
       "    </tr>\n",
       "  </tbody>\n",
       "</table>\n",
       "</div>"
      ],
      "text/plain": [
       "        compound   positive   negative    neutral\n",
       "count  17.000000  17.000000  17.000000  17.000000\n",
       "mean    0.191829   0.054765   0.014765   0.930471\n",
       "std     0.330886   0.067090   0.028095   0.067798\n",
       "min    -0.421500   0.000000   0.000000   0.758000\n",
       "25%     0.000000   0.000000   0.000000   0.900000\n",
       "50%     0.128000   0.052000   0.000000   0.935000\n",
       "75%     0.476700   0.088000   0.000000   1.000000\n",
       "max     0.836000   0.242000   0.083000   1.000000"
      ]
     },
     "execution_count": 47,
     "metadata": {},
     "output_type": "execute_result"
    }
   ],
   "source": [
    "# Describe the Bitcoin Sentiment\n",
    "bitcoin_df.describe()"
   ]
  },
  {
   "cell_type": "code",
   "execution_count": 49,
   "metadata": {},
   "outputs": [
    {
     "data": {
      "text/html": [
       "<div>\n",
       "<style scoped>\n",
       "    .dataframe tbody tr th:only-of-type {\n",
       "        vertical-align: middle;\n",
       "    }\n",
       "\n",
       "    .dataframe tbody tr th {\n",
       "        vertical-align: top;\n",
       "    }\n",
       "\n",
       "    .dataframe thead th {\n",
       "        text-align: right;\n",
       "    }\n",
       "</style>\n",
       "<table border=\"1\" class=\"dataframe\">\n",
       "  <thead>\n",
       "    <tr style=\"text-align: right;\">\n",
       "      <th></th>\n",
       "      <th>compound</th>\n",
       "      <th>positive</th>\n",
       "      <th>negative</th>\n",
       "      <th>neutral</th>\n",
       "    </tr>\n",
       "  </thead>\n",
       "  <tbody>\n",
       "    <tr>\n",
       "      <th>count</th>\n",
       "      <td>20.000000</td>\n",
       "      <td>20.000000</td>\n",
       "      <td>20.000000</td>\n",
       "      <td>20.00000</td>\n",
       "    </tr>\n",
       "    <tr>\n",
       "      <th>mean</th>\n",
       "      <td>0.224995</td>\n",
       "      <td>0.067750</td>\n",
       "      <td>0.007050</td>\n",
       "      <td>0.92520</td>\n",
       "    </tr>\n",
       "    <tr>\n",
       "      <th>std</th>\n",
       "      <td>0.342165</td>\n",
       "      <td>0.085994</td>\n",
       "      <td>0.022075</td>\n",
       "      <td>0.08779</td>\n",
       "    </tr>\n",
       "    <tr>\n",
       "      <th>min</th>\n",
       "      <td>-0.421500</td>\n",
       "      <td>0.000000</td>\n",
       "      <td>0.000000</td>\n",
       "      <td>0.77700</td>\n",
       "    </tr>\n",
       "    <tr>\n",
       "      <th>25%</th>\n",
       "      <td>0.000000</td>\n",
       "      <td>0.000000</td>\n",
       "      <td>0.000000</td>\n",
       "      <td>0.85700</td>\n",
       "    </tr>\n",
       "    <tr>\n",
       "      <th>50%</th>\n",
       "      <td>0.000000</td>\n",
       "      <td>0.000000</td>\n",
       "      <td>0.000000</td>\n",
       "      <td>0.97750</td>\n",
       "    </tr>\n",
       "    <tr>\n",
       "      <th>75%</th>\n",
       "      <td>0.526700</td>\n",
       "      <td>0.136000</td>\n",
       "      <td>0.000000</td>\n",
       "      <td>1.00000</td>\n",
       "    </tr>\n",
       "    <tr>\n",
       "      <th>max</th>\n",
       "      <td>0.778300</td>\n",
       "      <td>0.223000</td>\n",
       "      <td>0.083000</td>\n",
       "      <td>1.00000</td>\n",
       "    </tr>\n",
       "  </tbody>\n",
       "</table>\n",
       "</div>"
      ],
      "text/plain": [
       "        compound   positive   negative   neutral\n",
       "count  20.000000  20.000000  20.000000  20.00000\n",
       "mean    0.224995   0.067750   0.007050   0.92520\n",
       "std     0.342165   0.085994   0.022075   0.08779\n",
       "min    -0.421500   0.000000   0.000000   0.77700\n",
       "25%     0.000000   0.000000   0.000000   0.85700\n",
       "50%     0.000000   0.000000   0.000000   0.97750\n",
       "75%     0.526700   0.136000   0.000000   1.00000\n",
       "max     0.778300   0.223000   0.083000   1.00000"
      ]
     },
     "execution_count": 49,
     "metadata": {},
     "output_type": "execute_result"
    }
   ],
   "source": [
    "# Describe the Ethereum Sentiment\n",
    "ethereum_df.describe()"
   ]
  },
  {
   "cell_type": "markdown",
   "metadata": {},
   "source": [
    "### Questions:\n",
    "\n",
    "Q: Which coin had the highest mean positive score?\n",
    "\n",
    "A: Ethereum\n",
    "\n",
    "Q: Which coin had the highest compound score?\n",
    "\n",
    "A: Bitcoin\n",
    "\n",
    "Q. Which coin had the highest positive score?\n",
    "\n",
    "A: Bitcoin"
   ]
  },
  {
   "cell_type": "markdown",
   "metadata": {},
   "source": [
    "---"
   ]
  },
  {
   "cell_type": "markdown",
   "metadata": {},
   "source": [
    "# Tokenizer\n",
    "\n",
    "In this section, you will use NLTK and Python to tokenize the text for each coin. Be sure to:\n",
    "1. Lowercase each word\n",
    "2. Remove Punctuation\n",
    "3. Remove Stopwords"
   ]
  },
  {
   "cell_type": "code",
   "execution_count": 13,
   "metadata": {},
   "outputs": [],
   "source": [
    "from nltk.tokenize import word_tokenize, sent_tokenize\n",
    "from nltk.corpus import stopwords\n",
    "from nltk.stem import WordNetLemmatizer, PorterStemmer\n",
    "from string import punctuation\n",
    "import re"
   ]
  },
  {
   "cell_type": "code",
   "execution_count": 14,
   "metadata": {},
   "outputs": [],
   "source": [
    "# Expand the default stopwords list if necessary\n",
    "# YOUR CODE HERE!"
   ]
  },
  {
   "cell_type": "code",
   "execution_count": 15,
   "metadata": {},
   "outputs": [],
   "source": [
    "# Complete the tokenizer function\n",
    "def tokenizer(text):\n",
    "    \"\"\"Tokenizes text.\"\"\"\n",
    "    \n",
    "    # Create a list of the words\n",
    "\n",
    "    # Convert the words to lowercase\n",
    "    \n",
    "    # Remove the punctuation\n",
    "    \n",
    "    # Remove the stop words\n",
    "    \n",
    "    # Lemmatize Words into root words\n",
    "    \n",
    "    return tokens\n"
   ]
  },
  {
   "cell_type": "code",
   "execution_count": 16,
   "metadata": {},
   "outputs": [],
   "source": [
    "# Create a new tokens column for bitcoin\n",
    "# YOUR CODE HERE!"
   ]
  },
  {
   "cell_type": "code",
   "execution_count": 17,
   "metadata": {},
   "outputs": [],
   "source": [
    "# Create a new tokens column for ethereum\n",
    "# YOUR CODE HERE!"
   ]
  },
  {
   "cell_type": "markdown",
   "metadata": {},
   "source": [
    "---"
   ]
  },
  {
   "cell_type": "markdown",
   "metadata": {},
   "source": [
    "# NGrams and Frequency Analysis\n",
    "\n",
    "In this section you will look at the ngrams and word frequency for each coin. \n",
    "\n",
    "1. Use NLTK to produce the n-grams for N = 2. \n",
    "2. List the top 10 words for each coin. "
   ]
  },
  {
   "cell_type": "code",
   "execution_count": 18,
   "metadata": {},
   "outputs": [],
   "source": [
    "from collections import Counter\n",
    "from nltk import ngrams"
   ]
  },
  {
   "cell_type": "code",
   "execution_count": 19,
   "metadata": {},
   "outputs": [],
   "source": [
    "# Generate the Bitcoin N-grams where N=2\n",
    "# YOUR CODE HERE!"
   ]
  },
  {
   "cell_type": "code",
   "execution_count": 20,
   "metadata": {},
   "outputs": [],
   "source": [
    "# Generate the Ethereum N-grams where N=2\n",
    "# YOUR CODE HERE!"
   ]
  },
  {
   "cell_type": "code",
   "execution_count": 21,
   "metadata": {},
   "outputs": [],
   "source": [
    "# Use the token_count function to generate the top 10 words from each coin\n",
    "def token_count(tokens, N=10):\n",
    "    \"\"\"Returns the top N tokens from the frequency count\"\"\"\n",
    "    return Counter(tokens).most_common(N)"
   ]
  },
  {
   "cell_type": "code",
   "execution_count": 22,
   "metadata": {},
   "outputs": [],
   "source": [
    "# Get the top 10 words for Bitcoin\n",
    "# YOUR CODE HERE!"
   ]
  },
  {
   "cell_type": "code",
   "execution_count": 23,
   "metadata": {},
   "outputs": [],
   "source": [
    "# Get the top 10 words for Ethereum\n",
    "# YOUR CODE HERE!"
   ]
  },
  {
   "cell_type": "markdown",
   "metadata": {},
   "source": [
    "# Word Clouds\n",
    "\n",
    "In this section, you will generate word clouds for each coin to summarize the news for each coin"
   ]
  },
  {
   "cell_type": "code",
   "execution_count": 24,
   "metadata": {},
   "outputs": [],
   "source": [
    "from wordcloud import WordCloud\n",
    "import matplotlib.pyplot as plt\n",
    "plt.style.use('seaborn-whitegrid')\n",
    "import matplotlib as mpl\n",
    "mpl.rcParams['figure.figsize'] = [20.0, 10.0]"
   ]
  },
  {
   "cell_type": "code",
   "execution_count": 25,
   "metadata": {},
   "outputs": [],
   "source": [
    "# Generate the Bitcoin word cloud\n",
    "# YOUR CODE HERE!"
   ]
  },
  {
   "cell_type": "code",
   "execution_count": 26,
   "metadata": {},
   "outputs": [],
   "source": [
    "# Generate the Ethereum word cloud\n",
    "# YOUR CODE HERE!"
   ]
  },
  {
   "cell_type": "markdown",
   "metadata": {},
   "source": [
    "# Named Entity Recognition\n",
    "\n",
    "In this section, you will build a named entity recognition model for both coins and visualize the tags using SpaCy."
   ]
  },
  {
   "cell_type": "code",
   "execution_count": 27,
   "metadata": {},
   "outputs": [],
   "source": [
    "import spacy\n",
    "from spacy import displacy"
   ]
  },
  {
   "cell_type": "code",
   "execution_count": 28,
   "metadata": {},
   "outputs": [],
   "source": [
    "# Optional - download a language model for SpaCy\n",
    "# !python -m spacy download en_core_web_sm"
   ]
  },
  {
   "cell_type": "code",
   "execution_count": 29,
   "metadata": {},
   "outputs": [],
   "source": [
    "# Load the spaCy model\n",
    "nlp = spacy.load('en_core_web_sm')"
   ]
  },
  {
   "cell_type": "markdown",
   "metadata": {},
   "source": [
    "## Bitcoin NER"
   ]
  },
  {
   "cell_type": "code",
   "execution_count": 30,
   "metadata": {},
   "outputs": [],
   "source": [
    "# Concatenate all of the bitcoin text together\n",
    "# YOUR CODE HERE!"
   ]
  },
  {
   "cell_type": "code",
   "execution_count": 31,
   "metadata": {},
   "outputs": [],
   "source": [
    "# Run the NER processor on all of the text\n",
    "# YOUR CODE HERE!\n",
    "\n",
    "# Add a title to the document\n",
    "# YOUR CODE HERE!"
   ]
  },
  {
   "cell_type": "code",
   "execution_count": 32,
   "metadata": {},
   "outputs": [],
   "source": [
    "# Render the visualization\n",
    "# YOUR CODE HERE!"
   ]
  },
  {
   "cell_type": "code",
   "execution_count": 33,
   "metadata": {},
   "outputs": [],
   "source": [
    "# List all Entities\n",
    "# YOUR CODE HERE!"
   ]
  },
  {
   "cell_type": "markdown",
   "metadata": {},
   "source": [
    "---"
   ]
  },
  {
   "cell_type": "markdown",
   "metadata": {},
   "source": [
    "## Ethereum NER"
   ]
  },
  {
   "cell_type": "code",
   "execution_count": 34,
   "metadata": {},
   "outputs": [],
   "source": [
    "# Concatenate all of the bitcoin text together\n",
    "# YOUR CODE HERE!"
   ]
  },
  {
   "cell_type": "code",
   "execution_count": 35,
   "metadata": {},
   "outputs": [],
   "source": [
    "# Run the NER processor on all of the text\n",
    "# YOUR CODE HERE!\n",
    "\n",
    "# Add a title to the document\n",
    "# YOUR CODE HERE!"
   ]
  },
  {
   "cell_type": "code",
   "execution_count": 36,
   "metadata": {},
   "outputs": [],
   "source": [
    "# Render the visualization\n",
    "# YOUR CODE HERE!"
   ]
  },
  {
   "cell_type": "code",
   "execution_count": 37,
   "metadata": {},
   "outputs": [],
   "source": [
    "# List all Entities\n",
    "# YOUR CODE HERE!"
   ]
  }
 ],
 "metadata": {
  "file_extension": ".py",
  "kernelspec": {
   "display_name": "Python 3",
   "language": "python",
   "name": "python3"
  },
  "language_info": {
   "codemirror_mode": {
    "name": "ipython",
    "version": 3
   },
   "file_extension": ".py",
   "mimetype": "text/x-python",
   "name": "python",
   "nbconvert_exporter": "python",
   "pygments_lexer": "ipython3",
   "version": "3.7.7"
  },
  "mimetype": "text/x-python",
  "name": "python",
  "npconvert_exporter": "python",
  "pygments_lexer": "ipython3",
  "version": 3
 },
 "nbformat": 4,
 "nbformat_minor": 4
}
