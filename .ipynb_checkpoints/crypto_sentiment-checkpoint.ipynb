{
 "cells": [
  {
   "cell_type": "markdown",
   "metadata": {},
   "source": [
    "# News Headlines Sentiment\n",
    "\n",
    "Use the news api to pull the latest news articles for bitcoin and ethereum and create a DataFrame of sentiment scores for each coin. \n",
    "\n",
    "Use descriptive statistics to answer the following questions:\n",
    "1. Which coin had the highest mean positive score?\n",
    "2. Which coin had the highest negative score?\n",
    "3. Which coin had the highest positive score?"
   ]
  },
  {
   "cell_type": "code",
   "execution_count": 1,
   "metadata": {},
   "outputs": [],
   "source": [
    "# Initial imports\n",
    "import os\n",
    "import pandas as pd\n",
    "from datetime import datetime, timedelta\n",
    "from dotenv import load_dotenv\n",
    "from nltk.sentiment.vader import SentimentIntensityAnalyzer\n",
    "analyzer = SentimentIntensityAnalyzer()\n",
    "from newsapi.newsapi_client import NewsApiClient\n",
    "\n",
    "\n",
    "%matplotlib inline"
   ]
  },
  {
   "cell_type": "code",
   "execution_count": 2,
   "metadata": {},
   "outputs": [],
   "source": [
    "# Read your api key environment variable\n",
    "\n",
    "load_dotenv()\n",
    "\n",
    "# Set News API Key\n",
    "\n",
    "newsapi = NewsApiClient(api_key=os.environ[\"NEWS_API_KEY\"])"
   ]
  },
  {
   "cell_type": "code",
   "execution_count": 5,
   "metadata": {},
   "outputs": [],
   "source": [
    "# Create a function to retrieve articles with a newsapi client\n",
    "\n",
    "current_date = pd.Timestamp(\"2020-07-29\", tz=\"America/New_York\").isoformat()\n",
    "past_date = pd.Timestamp(\"2020-07-27\", tz=\"America/New_York\").isoformat()\n",
    "\n",
    "def get_articles(keyword):    \n",
    "    date = datetime.strptime(current_date[:10], \"%Y-%m-%d\")\n",
    "    end_date = datetime.strptime(past_date[:10], \"%Y-%m-%d\")\n",
    "    print(f\"Fetching news about '{keyword}'\")\n",
    "    print(\"*\" * 30)\n",
    "    while date > end_date:\n",
    "        print(f\"retrieving news from: {date}\")\n",
    "        articles = newsapi.get_everything(\n",
    "            q=keyword,\n",
    "            from_param=date.strftime('%Y-%m-%d'),\n",
    "            to=date.strftime('%Y-%m-%d'),\n",
    "            language=\"en\",\n",
    "            sort_by=\"relevancy\",\n",
    "            page=1,\n",
    "        )\n",
    "        date = date - timedelta(days=1)\n",
    "    return articles"
   ]
  },
  {
   "cell_type": "code",
   "execution_count": 6,
   "metadata": {},
   "outputs": [
    {
     "name": "stdout",
     "output_type": "stream",
     "text": [
      "Fetching news about 'bitcoin'\n",
      "******************************\n",
      "retrieving news from: 2020-07-29 00:00:00\n",
      "retrieving news from: 2020-07-28 00:00:00\n"
     ]
    },
    {
     "data": {
      "text/plain": [
       "dict"
      ]
     },
     "execution_count": 6,
     "metadata": {},
     "output_type": "execute_result"
    }
   ],
   "source": [
    "# Fetch the Bitcoin news articles\n",
    "bitcoin_articles = get_articles(\"bitcoin\")\n"
   ]
  },
  {
   "cell_type": "code",
   "execution_count": 14,
   "metadata": {},
   "outputs": [
    {
     "data": {
      "text/plain": [
       "dict_keys(['source', 'author', 'title', 'description', 'url', 'urlToImage', 'publishedAt', 'content'])"
      ]
     },
     "execution_count": 14,
     "metadata": {},
     "output_type": "execute_result"
    }
   ],
   "source": [
    "bitcoin_articles['articles'][1].keys()"
   ]
  },
  {
   "cell_type": "code",
   "execution_count": 31,
   "metadata": {},
   "outputs": [
    {
     "data": {
      "text/html": [
       "<div>\n",
       "<style scoped>\n",
       "    .dataframe tbody tr th:only-of-type {\n",
       "        vertical-align: middle;\n",
       "    }\n",
       "\n",
       "    .dataframe tbody tr th {\n",
       "        vertical-align: top;\n",
       "    }\n",
       "\n",
       "    .dataframe thead th {\n",
       "        text-align: right;\n",
       "    }\n",
       "</style>\n",
       "<table border=\"1\" class=\"dataframe\">\n",
       "  <thead>\n",
       "    <tr style=\"text-align: right;\">\n",
       "      <th></th>\n",
       "      <th>title</th>\n",
       "      <th>content</th>\n",
       "    </tr>\n",
       "  </thead>\n",
       "  <tbody>\n",
       "    <tr>\n",
       "      <th>0</th>\n",
       "      <td>Bitcoin bulls are running, as prices spike abo...</td>\n",
       "      <td>The bitcoin bulls are back in town.\\r\\nThe pri...</td>\n",
       "    </tr>\n",
       "    <tr>\n",
       "      <th>1</th>\n",
       "      <td>Gold and bitcoin will both surge higher as lon...</td>\n",
       "      <td>REUTERS/Rick Wilking\\r\\n&lt;ul&gt;&lt;li&gt;Novogratz said...</td>\n",
       "    </tr>\n",
       "    <tr>\n",
       "      <th>2</th>\n",
       "      <td>Breakingviews - Drugs are the new bitcoin for ...</td>\n",
       "      <td>DALLAS (Reuters Breakingviews) - Eastman Kodak...</td>\n",
       "    </tr>\n",
       "    <tr>\n",
       "      <th>3</th>\n",
       "      <td>Bitcoin rockets above $11,000 to year highs as...</td>\n",
       "      <td>&lt;ul&gt;&lt;li&gt;Bitcoin crossed the $11,000 level and ...</td>\n",
       "    </tr>\n",
       "    <tr>\n",
       "      <th>4</th>\n",
       "      <td>Who Are 'America's Frontline Doctors', the Pro...</td>\n",
       "      <td>A group calling itself Americas Frontline Doct...</td>\n",
       "    </tr>\n",
       "    <tr>\n",
       "      <th>5</th>\n",
       "      <td>US stocks decline as investors weigh GOP stimu...</td>\n",
       "      <td>&lt;ul&gt;&lt;li&gt;US stocks dropped on Tuesday as invest...</td>\n",
       "    </tr>\n",
       "    <tr>\n",
       "      <th>6</th>\n",
       "      <td>Blockchain – A Platform for IoT Solutions</td>\n",
       "      <td>As you heard many times before, blockchain tec...</td>\n",
       "    </tr>\n",
       "    <tr>\n",
       "      <th>7</th>\n",
       "      <td>Greenspan: Bitcoin Likely To Rally Further</td>\n",
       "      <td>None</td>\n",
       "    </tr>\n",
       "    <tr>\n",
       "      <th>8</th>\n",
       "      <td>The Morning After: Garmin confirms a cyber att...</td>\n",
       "      <td>Samsung’s big mobile event is just over a week...</td>\n",
       "    </tr>\n",
       "    <tr>\n",
       "      <th>9</th>\n",
       "      <td>Bitcoin Heading Higher As Adoption Picks Up: M...</td>\n",
       "      <td>None</td>\n",
       "    </tr>\n",
       "    <tr>\n",
       "      <th>10</th>\n",
       "      <td>Bitcoin Heading Higher As Adoption Picks Up: M...</td>\n",
       "      <td>None</td>\n",
       "    </tr>\n",
       "    <tr>\n",
       "      <th>11</th>\n",
       "      <td>Former Hedge Fund Billionaire Makes The Case F...</td>\n",
       "      <td>Bitcoin has rocketed higher over the last few ...</td>\n",
       "    </tr>\n",
       "    <tr>\n",
       "      <th>12</th>\n",
       "      <td>Bitcoin’s Rally Toward $12,000 Abruptly Stalls...</td>\n",
       "      <td>The price of Bitcoin breaks $11,000, but a maj...</td>\n",
       "    </tr>\n",
       "    <tr>\n",
       "      <th>13</th>\n",
       "      <td>Foundation Devices Enters The Sovereign Hardwa...</td>\n",
       "      <td>A new hardware provider is entering the Bitcoi...</td>\n",
       "    </tr>\n",
       "    <tr>\n",
       "      <th>14</th>\n",
       "      <td>With Bitcoin ATMs, CoinFlip Is Banking The Unb...</td>\n",
       "      <td>This is a promoted article provided by CoinFli...</td>\n",
       "    </tr>\n",
       "    <tr>\n",
       "      <th>15</th>\n",
       "      <td>Coinfloor Is Riding A Bullish Bitcoin Wave Wit...</td>\n",
       "      <td>Coinfloor, the U.K.s longest-running bitcoin e...</td>\n",
       "    </tr>\n",
       "    <tr>\n",
       "      <th>16</th>\n",
       "      <td>The Crash Of 2020: The Precious Metal Inflatio...</td>\n",
       "      <td>getty\\r\\nIve been writing hysterically about g...</td>\n",
       "    </tr>\n",
       "    <tr>\n",
       "      <th>17</th>\n",
       "      <td>Bitcoin Could Hit All-Time High Levels By 2021...</td>\n",
       "      <td>Bitcoin saw a dramatic price rise on July 27, ...</td>\n",
       "    </tr>\n",
       "    <tr>\n",
       "      <th>18</th>\n",
       "      <td>Bitcoin News Roundup for July 28, 2020</td>\n",
       "      <td>With bitcoin pulling back a little after Monda...</td>\n",
       "    </tr>\n",
       "    <tr>\n",
       "      <th>19</th>\n",
       "      <td>Expectations for Even Further Bitcoin Gains Ke...</td>\n",
       "      <td>DisclosureThe leader in blockchain news, CoinD...</td>\n",
       "    </tr>\n",
       "  </tbody>\n",
       "</table>\n",
       "</div>"
      ],
      "text/plain": [
       "                                                title  \\\n",
       "0   Bitcoin bulls are running, as prices spike abo...   \n",
       "1   Gold and bitcoin will both surge higher as lon...   \n",
       "2   Breakingviews - Drugs are the new bitcoin for ...   \n",
       "3   Bitcoin rockets above $11,000 to year highs as...   \n",
       "4   Who Are 'America's Frontline Doctors', the Pro...   \n",
       "5   US stocks decline as investors weigh GOP stimu...   \n",
       "6           Blockchain – A Platform for IoT Solutions   \n",
       "7          Greenspan: Bitcoin Likely To Rally Further   \n",
       "8   The Morning After: Garmin confirms a cyber att...   \n",
       "9   Bitcoin Heading Higher As Adoption Picks Up: M...   \n",
       "10  Bitcoin Heading Higher As Adoption Picks Up: M...   \n",
       "11  Former Hedge Fund Billionaire Makes The Case F...   \n",
       "12  Bitcoin’s Rally Toward $12,000 Abruptly Stalls...   \n",
       "13  Foundation Devices Enters The Sovereign Hardwa...   \n",
       "14  With Bitcoin ATMs, CoinFlip Is Banking The Unb...   \n",
       "15  Coinfloor Is Riding A Bullish Bitcoin Wave Wit...   \n",
       "16  The Crash Of 2020: The Precious Metal Inflatio...   \n",
       "17  Bitcoin Could Hit All-Time High Levels By 2021...   \n",
       "18             Bitcoin News Roundup for July 28, 2020   \n",
       "19  Expectations for Even Further Bitcoin Gains Ke...   \n",
       "\n",
       "                                              content  \n",
       "0   The bitcoin bulls are back in town.\\r\\nThe pri...  \n",
       "1   REUTERS/Rick Wilking\\r\\n<ul><li>Novogratz said...  \n",
       "2   DALLAS (Reuters Breakingviews) - Eastman Kodak...  \n",
       "3   <ul><li>Bitcoin crossed the $11,000 level and ...  \n",
       "4   A group calling itself Americas Frontline Doct...  \n",
       "5   <ul><li>US stocks dropped on Tuesday as invest...  \n",
       "6   As you heard many times before, blockchain tec...  \n",
       "7                                                None  \n",
       "8   Samsung’s big mobile event is just over a week...  \n",
       "9                                                None  \n",
       "10                                               None  \n",
       "11  Bitcoin has rocketed higher over the last few ...  \n",
       "12  The price of Bitcoin breaks $11,000, but a maj...  \n",
       "13  A new hardware provider is entering the Bitcoi...  \n",
       "14  This is a promoted article provided by CoinFli...  \n",
       "15  Coinfloor, the U.K.s longest-running bitcoin e...  \n",
       "16  getty\\r\\nIve been writing hysterically about g...  \n",
       "17  Bitcoin saw a dramatic price rise on July 27, ...  \n",
       "18  With bitcoin pulling back a little after Monda...  \n",
       "19  DisclosureThe leader in blockchain news, CoinD...  "
      ]
     },
     "execution_count": 31,
     "metadata": {},
     "output_type": "execute_result"
    }
   ],
   "source": [
    "titles = []\n",
    "content = []\n",
    "\n",
    "for i in range(len(bitcoin_articles['articles'])):\n",
    "    titles.append(bitcoin_articles['articles'][i]['title'])\n",
    "    content.append(bitcoin_articles['articles'][i]['content'])\n",
    "    \n",
    "\n",
    "bitcoin_df = pd.DataFrame({'title': titles ,\n",
    "                           'content':content })\n",
    "\n",
    "bitcoin_df\n",
    "             "
   ]
  },
  {
   "cell_type": "code",
   "execution_count": 26,
   "metadata": {},
   "outputs": [
    {
     "data": {
      "text/plain": [
       "range(0, 20)"
      ]
     },
     "execution_count": 26,
     "metadata": {},
     "output_type": "execute_result"
    }
   ],
   "source": [
    " "
   ]
  },
  {
   "cell_type": "code",
   "execution_count": 32,
   "metadata": {},
   "outputs": [
    {
     "name": "stdout",
     "output_type": "stream",
     "text": [
      "Fetching news about 'ethereum'\n",
      "******************************\n",
      "retrieving news from: 2020-07-29 00:00:00\n",
      "retrieving news from: 2020-07-28 00:00:00\n"
     ]
    },
    {
     "data": {
      "text/html": [
       "<div>\n",
       "<style scoped>\n",
       "    .dataframe tbody tr th:only-of-type {\n",
       "        vertical-align: middle;\n",
       "    }\n",
       "\n",
       "    .dataframe tbody tr th {\n",
       "        vertical-align: top;\n",
       "    }\n",
       "\n",
       "    .dataframe thead th {\n",
       "        text-align: right;\n",
       "    }\n",
       "</style>\n",
       "<table border=\"1\" class=\"dataframe\">\n",
       "  <thead>\n",
       "    <tr style=\"text-align: right;\">\n",
       "      <th></th>\n",
       "      <th>title</th>\n",
       "      <th>content</th>\n",
       "    </tr>\n",
       "  </thead>\n",
       "  <tbody>\n",
       "    <tr>\n",
       "      <th>0</th>\n",
       "      <td>Bitcoin rockets above $11,000 to year highs as...</td>\n",
       "      <td>&lt;ul&gt;&lt;li&gt;Bitcoin crossed the $11,000 level and ...</td>\n",
       "    </tr>\n",
       "    <tr>\n",
       "      <th>1</th>\n",
       "      <td>CoinDesk Live Recap: Ethereum Culture, Explained</td>\n",
       "      <td>What makes Ethereum culture click?\\r\\nMaker Fo...</td>\n",
       "    </tr>\n",
       "    <tr>\n",
       "      <th>2</th>\n",
       "      <td>Staking on Ethereum 2.0 Takes First Step With ...</td>\n",
       "      <td>DisclosureThe leader in blockchain news, CoinD...</td>\n",
       "    </tr>\n",
       "    <tr>\n",
       "      <th>3</th>\n",
       "      <td>Soaring DeFi Usage Drives Ethereum Contract Ca...</td>\n",
       "      <td>DisclosureThe leader in blockchain news, CoinD...</td>\n",
       "    </tr>\n",
       "    <tr>\n",
       "      <th>4</th>\n",
       "      <td>Memories of London’s Devcon 1, Ethereum’s ‘Woo...</td>\n",
       "      <td>Ethereums Devcon 1, held in London in November...</td>\n",
       "    </tr>\n",
       "    <tr>\n",
       "      <th>5</th>\n",
       "      <td>Bitcoin News Roundup for July 28, 2020</td>\n",
       "      <td>With bitcoin pulling back a little after Monda...</td>\n",
       "    </tr>\n",
       "    <tr>\n",
       "      <th>6</th>\n",
       "      <td>Blockchain – A Platform for IoT Solutions</td>\n",
       "      <td>As you heard many times before, blockchain tec...</td>\n",
       "    </tr>\n",
       "    <tr>\n",
       "      <th>7</th>\n",
       "      <td>Staking on Ethereum 2.0 Takes First Step With ...</td>\n",
       "      <td>The transition to Ethereum 2.0 and its proof-o...</td>\n",
       "    </tr>\n",
       "    <tr>\n",
       "      <th>8</th>\n",
       "      <td>5 Years After Launch, Predictions Market Platf...</td>\n",
       "      <td>The Takeaway:\\r\\n&lt;ul&gt;&lt;li&gt;Augur released the se...</td>\n",
       "    </tr>\n",
       "    <tr>\n",
       "      <th>9</th>\n",
       "      <td>CoinDesk Live Recap: Ethereum Culture, Explained</td>\n",
       "      <td>What makes Ethereum culture click?\\r\\nMaker Fo...</td>\n",
       "    </tr>\n",
       "    <tr>\n",
       "      <th>10</th>\n",
       "      <td>One Billion, Two Billion, Three Billion, Four?...</td>\n",
       "      <td>The Takeaway:\\r\\n&lt;ul&gt;&lt;li&gt;Projects like MakerDA...</td>\n",
       "    </tr>\n",
       "    <tr>\n",
       "      <th>11</th>\n",
       "      <td>Proof-of-Stake Chains Team Up to Prove DeFi Is...</td>\n",
       "      <td>Liquidity mining is coming to proof-of-stake (...</td>\n",
       "    </tr>\n",
       "    <tr>\n",
       "      <th>12</th>\n",
       "      <td>Firm Uses Ethereum to Tokenize Sustainable Inf...</td>\n",
       "      <td>Fasset, a fintech company headquartered in the...</td>\n",
       "    </tr>\n",
       "    <tr>\n",
       "      <th>13</th>\n",
       "      <td>Blockchain project Polkadot raises $43 million...</td>\n",
       "      <td>Blockchain project Polkadot, a challenger to E...</td>\n",
       "    </tr>\n",
       "    <tr>\n",
       "      <th>14</th>\n",
       "      <td>Eth2 researchers unveil validator ‘launchpad’ ...</td>\n",
       "      <td>The Ethereum Foundation's Eth2 research team s...</td>\n",
       "    </tr>\n",
       "    <tr>\n",
       "      <th>15</th>\n",
       "      <td>Market Wrap: Bitcoin’s Price and Ether’s Domin...</td>\n",
       "      <td>Bitcoin’s price is at its 11-month high as vol...</td>\n",
       "    </tr>\n",
       "    <tr>\n",
       "      <th>16</th>\n",
       "      <td>Firm Uses Ethereum to Tokenize Sustainable Inf...</td>\n",
       "      <td>Fasset, a fintech company headquartered in the...</td>\n",
       "    </tr>\n",
       "    <tr>\n",
       "      <th>17</th>\n",
       "      <td>Developers Release Validator Launchpad for Eth...</td>\n",
       "      <td>With the Ethereum 2.0 final testnet set to be ...</td>\n",
       "    </tr>\n",
       "    <tr>\n",
       "      <th>18</th>\n",
       "      <td>Blockchain Bites: Bitcoin’s New ETP, Ethereum’...</td>\n",
       "      <td>A crypto hedge fund is folding, Silvergate Ban...</td>\n",
       "    </tr>\n",
       "    <tr>\n",
       "      <th>19</th>\n",
       "      <td>Market Wrap: Bitcoin’s Price and Ether’s Domin...</td>\n",
       "      <td>Bitcoins price is at its 11-month high as vola...</td>\n",
       "    </tr>\n",
       "  </tbody>\n",
       "</table>\n",
       "</div>"
      ],
      "text/plain": [
       "                                                title  \\\n",
       "0   Bitcoin rockets above $11,000 to year highs as...   \n",
       "1    CoinDesk Live Recap: Ethereum Culture, Explained   \n",
       "2   Staking on Ethereum 2.0 Takes First Step With ...   \n",
       "3   Soaring DeFi Usage Drives Ethereum Contract Ca...   \n",
       "4   Memories of London’s Devcon 1, Ethereum’s ‘Woo...   \n",
       "5              Bitcoin News Roundup for July 28, 2020   \n",
       "6           Blockchain – A Platform for IoT Solutions   \n",
       "7   Staking on Ethereum 2.0 Takes First Step With ...   \n",
       "8   5 Years After Launch, Predictions Market Platf...   \n",
       "9    CoinDesk Live Recap: Ethereum Culture, Explained   \n",
       "10  One Billion, Two Billion, Three Billion, Four?...   \n",
       "11  Proof-of-Stake Chains Team Up to Prove DeFi Is...   \n",
       "12  Firm Uses Ethereum to Tokenize Sustainable Inf...   \n",
       "13  Blockchain project Polkadot raises $43 million...   \n",
       "14  Eth2 researchers unveil validator ‘launchpad’ ...   \n",
       "15  Market Wrap: Bitcoin’s Price and Ether’s Domin...   \n",
       "16  Firm Uses Ethereum to Tokenize Sustainable Inf...   \n",
       "17  Developers Release Validator Launchpad for Eth...   \n",
       "18  Blockchain Bites: Bitcoin’s New ETP, Ethereum’...   \n",
       "19  Market Wrap: Bitcoin’s Price and Ether’s Domin...   \n",
       "\n",
       "                                              content  \n",
       "0   <ul><li>Bitcoin crossed the $11,000 level and ...  \n",
       "1   What makes Ethereum culture click?\\r\\nMaker Fo...  \n",
       "2   DisclosureThe leader in blockchain news, CoinD...  \n",
       "3   DisclosureThe leader in blockchain news, CoinD...  \n",
       "4   Ethereums Devcon 1, held in London in November...  \n",
       "5   With bitcoin pulling back a little after Monda...  \n",
       "6   As you heard many times before, blockchain tec...  \n",
       "7   The transition to Ethereum 2.0 and its proof-o...  \n",
       "8   The Takeaway:\\r\\n<ul><li>Augur released the se...  \n",
       "9   What makes Ethereum culture click?\\r\\nMaker Fo...  \n",
       "10  The Takeaway:\\r\\n<ul><li>Projects like MakerDA...  \n",
       "11  Liquidity mining is coming to proof-of-stake (...  \n",
       "12  Fasset, a fintech company headquartered in the...  \n",
       "13  Blockchain project Polkadot, a challenger to E...  \n",
       "14  The Ethereum Foundation's Eth2 research team s...  \n",
       "15  Bitcoin’s price is at its 11-month high as vol...  \n",
       "16  Fasset, a fintech company headquartered in the...  \n",
       "17  With the Ethereum 2.0 final testnet set to be ...  \n",
       "18  A crypto hedge fund is folding, Silvergate Ban...  \n",
       "19  Bitcoins price is at its 11-month high as vola...  "
      ]
     },
     "execution_count": 32,
     "metadata": {},
     "output_type": "execute_result"
    }
   ],
   "source": [
    "# Fetch the Ethereum news articles\n",
    "ethereum_articles = get_articles(\"ethereum\")\n",
    "\n",
    "titles = []\n",
    "content = []\n",
    "\n",
    "for i in range(len(ethereum_articles['articles'])):\n",
    "    titles.append(ethereum_articles['articles'][i]['title'])\n",
    "    content.append(ethereum_articles['articles'][i]['content'])\n",
    "    \n",
    "\n",
    "ethereum_df = pd.DataFrame({'title': titles ,\n",
    "                           'content':content })\n",
    "\n",
    "ethereum_df"
   ]
  },
  {
   "cell_type": "code",
   "execution_count": null,
   "metadata": {},
   "outputs": [],
   "source": [
    "# Create the Bitcoin sentiment scores DataFrame\n",
    "# YOUR CODE HERE!"
   ]
  },
  {
   "cell_type": "code",
   "execution_count": null,
   "metadata": {},
   "outputs": [],
   "source": [
    "# Create the ethereum sentiment scores DataFrame\n",
    "# YOUR CODE HERE!"
   ]
  },
  {
   "cell_type": "code",
   "execution_count": null,
   "metadata": {},
   "outputs": [],
   "source": [
    "# Describe the Bitcoin Sentiment\n",
    "# YOUR CODE HERE!"
   ]
  },
  {
   "cell_type": "code",
   "execution_count": null,
   "metadata": {},
   "outputs": [],
   "source": [
    "# Describe the Ethereum Sentiment\n",
    "# YOUR CODE HERE!"
   ]
  },
  {
   "cell_type": "markdown",
   "metadata": {},
   "source": [
    "### Questions:\n",
    "\n",
    "Q: Which coin had the highest mean positive score?\n",
    "\n",
    "A: \n",
    "\n",
    "Q: Which coin had the highest compound score?\n",
    "\n",
    "A: \n",
    "\n",
    "Q. Which coin had the highest positive score?\n",
    "\n",
    "A: "
   ]
  },
  {
   "cell_type": "markdown",
   "metadata": {},
   "source": [
    "---"
   ]
  },
  {
   "cell_type": "markdown",
   "metadata": {},
   "source": [
    "# Tokenizer\n",
    "\n",
    "In this section, you will use NLTK and Python to tokenize the text for each coin. Be sure to:\n",
    "1. Lowercase each word\n",
    "2. Remove Punctuation\n",
    "3. Remove Stopwords"
   ]
  },
  {
   "cell_type": "code",
   "execution_count": null,
   "metadata": {},
   "outputs": [],
   "source": [
    "from nltk.tokenize import word_tokenize, sent_tokenize\n",
    "from nltk.corpus import stopwords\n",
    "from nltk.stem import WordNetLemmatizer, PorterStemmer\n",
    "from string import punctuation\n",
    "import re"
   ]
  },
  {
   "cell_type": "code",
   "execution_count": null,
   "metadata": {},
   "outputs": [],
   "source": [
    "# Expand the default stopwords list if necessary\n",
    "# YOUR CODE HERE!"
   ]
  },
  {
   "cell_type": "code",
   "execution_count": null,
   "metadata": {},
   "outputs": [],
   "source": [
    "# Complete the tokenizer function\n",
    "def tokenizer(text):\n",
    "    \"\"\"Tokenizes text.\"\"\"\n",
    "    \n",
    "    # Create a list of the words\n",
    "\n",
    "    # Convert the words to lowercase\n",
    "    \n",
    "    # Remove the punctuation\n",
    "    \n",
    "    # Remove the stop words\n",
    "    \n",
    "    # Lemmatize Words into root words\n",
    "    \n",
    "    return tokens\n"
   ]
  },
  {
   "cell_type": "code",
   "execution_count": null,
   "metadata": {},
   "outputs": [],
   "source": [
    "# Create a new tokens column for bitcoin\n",
    "# YOUR CODE HERE!"
   ]
  },
  {
   "cell_type": "code",
   "execution_count": null,
   "metadata": {},
   "outputs": [],
   "source": [
    "# Create a new tokens column for ethereum\n",
    "# YOUR CODE HERE!"
   ]
  },
  {
   "cell_type": "markdown",
   "metadata": {},
   "source": [
    "---"
   ]
  },
  {
   "cell_type": "markdown",
   "metadata": {},
   "source": [
    "# NGrams and Frequency Analysis\n",
    "\n",
    "In this section you will look at the ngrams and word frequency for each coin. \n",
    "\n",
    "1. Use NLTK to produce the n-grams for N = 2. \n",
    "2. List the top 10 words for each coin. "
   ]
  },
  {
   "cell_type": "code",
   "execution_count": null,
   "metadata": {},
   "outputs": [],
   "source": [
    "from collections import Counter\n",
    "from nltk import ngrams"
   ]
  },
  {
   "cell_type": "code",
   "execution_count": null,
   "metadata": {},
   "outputs": [],
   "source": [
    "# Generate the Bitcoin N-grams where N=2\n",
    "# YOUR CODE HERE!"
   ]
  },
  {
   "cell_type": "code",
   "execution_count": null,
   "metadata": {},
   "outputs": [],
   "source": [
    "# Generate the Ethereum N-grams where N=2\n",
    "# YOUR CODE HERE!"
   ]
  },
  {
   "cell_type": "code",
   "execution_count": null,
   "metadata": {},
   "outputs": [],
   "source": [
    "# Use the token_count function to generate the top 10 words from each coin\n",
    "def token_count(tokens, N=10):\n",
    "    \"\"\"Returns the top N tokens from the frequency count\"\"\"\n",
    "    return Counter(tokens).most_common(N)"
   ]
  },
  {
   "cell_type": "code",
   "execution_count": null,
   "metadata": {},
   "outputs": [],
   "source": [
    "# Get the top 10 words for Bitcoin\n",
    "# YOUR CODE HERE!"
   ]
  },
  {
   "cell_type": "code",
   "execution_count": null,
   "metadata": {},
   "outputs": [],
   "source": [
    "# Get the top 10 words for Ethereum\n",
    "# YOUR CODE HERE!"
   ]
  },
  {
   "cell_type": "markdown",
   "metadata": {},
   "source": [
    "# Word Clouds\n",
    "\n",
    "In this section, you will generate word clouds for each coin to summarize the news for each coin"
   ]
  },
  {
   "cell_type": "code",
   "execution_count": null,
   "metadata": {},
   "outputs": [],
   "source": [
    "from wordcloud import WordCloud\n",
    "import matplotlib.pyplot as plt\n",
    "plt.style.use('seaborn-whitegrid')\n",
    "import matplotlib as mpl\n",
    "mpl.rcParams['figure.figsize'] = [20.0, 10.0]"
   ]
  },
  {
   "cell_type": "code",
   "execution_count": null,
   "metadata": {},
   "outputs": [],
   "source": [
    "# Generate the Bitcoin word cloud\n",
    "# YOUR CODE HERE!"
   ]
  },
  {
   "cell_type": "code",
   "execution_count": null,
   "metadata": {},
   "outputs": [],
   "source": [
    "# Generate the Ethereum word cloud\n",
    "# YOUR CODE HERE!"
   ]
  },
  {
   "cell_type": "markdown",
   "metadata": {},
   "source": [
    "# Named Entity Recognition\n",
    "\n",
    "In this section, you will build a named entity recognition model for both coins and visualize the tags using SpaCy."
   ]
  },
  {
   "cell_type": "code",
   "execution_count": null,
   "metadata": {},
   "outputs": [],
   "source": [
    "import spacy\n",
    "from spacy import displacy"
   ]
  },
  {
   "cell_type": "code",
   "execution_count": null,
   "metadata": {},
   "outputs": [],
   "source": [
    "# Optional - download a language model for SpaCy\n",
    "# !python -m spacy download en_core_web_sm"
   ]
  },
  {
   "cell_type": "code",
   "execution_count": null,
   "metadata": {},
   "outputs": [],
   "source": [
    "# Load the spaCy model\n",
    "nlp = spacy.load('en_core_web_sm')"
   ]
  },
  {
   "cell_type": "markdown",
   "metadata": {},
   "source": [
    "## Bitcoin NER"
   ]
  },
  {
   "cell_type": "code",
   "execution_count": null,
   "metadata": {},
   "outputs": [],
   "source": [
    "# Concatenate all of the bitcoin text together\n",
    "# YOUR CODE HERE!"
   ]
  },
  {
   "cell_type": "code",
   "execution_count": null,
   "metadata": {},
   "outputs": [],
   "source": [
    "# Run the NER processor on all of the text\n",
    "# YOUR CODE HERE!\n",
    "\n",
    "# Add a title to the document\n",
    "# YOUR CODE HERE!"
   ]
  },
  {
   "cell_type": "code",
   "execution_count": null,
   "metadata": {},
   "outputs": [],
   "source": [
    "# Render the visualization\n",
    "# YOUR CODE HERE!"
   ]
  },
  {
   "cell_type": "code",
   "execution_count": null,
   "metadata": {},
   "outputs": [],
   "source": [
    "# List all Entities\n",
    "# YOUR CODE HERE!"
   ]
  },
  {
   "cell_type": "markdown",
   "metadata": {},
   "source": [
    "---"
   ]
  },
  {
   "cell_type": "markdown",
   "metadata": {},
   "source": [
    "## Ethereum NER"
   ]
  },
  {
   "cell_type": "code",
   "execution_count": null,
   "metadata": {},
   "outputs": [],
   "source": [
    "# Concatenate all of the bitcoin text together\n",
    "# YOUR CODE HERE!"
   ]
  },
  {
   "cell_type": "code",
   "execution_count": null,
   "metadata": {},
   "outputs": [],
   "source": [
    "# Run the NER processor on all of the text\n",
    "# YOUR CODE HERE!\n",
    "\n",
    "# Add a title to the document\n",
    "# YOUR CODE HERE!"
   ]
  },
  {
   "cell_type": "code",
   "execution_count": null,
   "metadata": {},
   "outputs": [],
   "source": [
    "# Render the visualization\n",
    "# YOUR CODE HERE!"
   ]
  },
  {
   "cell_type": "code",
   "execution_count": null,
   "metadata": {},
   "outputs": [],
   "source": [
    "# List all Entities\n",
    "# YOUR CODE HERE!"
   ]
  }
 ],
 "metadata": {
  "file_extension": ".py",
  "kernelspec": {
   "display_name": "Python 3",
   "language": "python",
   "name": "python3"
  },
  "language_info": {
   "codemirror_mode": {
    "name": "ipython",
    "version": 3
   },
   "file_extension": ".py",
   "mimetype": "text/x-python",
   "name": "python",
   "nbconvert_exporter": "python",
   "pygments_lexer": "ipython3",
   "version": "3.7.7"
  },
  "mimetype": "text/x-python",
  "name": "python",
  "npconvert_exporter": "python",
  "pygments_lexer": "ipython3",
  "version": 3
 },
 "nbformat": 4,
 "nbformat_minor": 4
}
